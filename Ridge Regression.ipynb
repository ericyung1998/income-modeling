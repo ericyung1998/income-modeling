{
 "cells": [
  {
   "cell_type": "markdown",
   "metadata": {},
   "source": [
    "### Question 2: Apply Ridge Regression to the Dataset \n",
    "\n",
    "Let us now try a more restrained regression model. Apply Ridge Regression, using only the first 500 rows for training.\n",
    "\n",
    "\n",
    "\n",
    "# Result\n",
    "\n",
    "- Create a function ridge_reg(path), where path is the location of the csv file\n",
    "- This function should load the file, train the model, and then test the model\n",
    "- The function should return a 3-tuple, (coefficient array, intercept, R^2 of model when run on last 500 rows)\n",
    "- E.g. ([12 ,   98], 10, 0.8)"
   ]
  },
  {
   "cell_type": "markdown",
   "metadata": {},
   "source": [
    "## Initialization"
   ]
  },
  {
   "cell_type": "code",
   "execution_count": 1,
   "metadata": {},
   "outputs": [],
   "source": [
    "# data management\n",
    "\n",
    "import pandas as pd\n",
    "import numpy as np\n",
    "\n",
    "# ML prediction\n",
    "\n",
    "from sklearn.linear_model import Ridge\n",
    "from sklearn.model_selection import GridSearchCV\n",
    "\n",
    "# metrics\n",
    "\n",
    "from sklearn.metrics import accuracy_score\n",
    "\n",
    "# visualization\n",
    "\n",
    "import seaborn as sns\n",
    "sns.set_theme(style=\"darkgrid\")\n",
    "\n",
    "# set path\n",
    "\n",
    "path = 'HKUST_FinTech_Income_Dataset.csv'"
   ]
  },
  {
   "cell_type": "code",
   "execution_count": 2,
   "metadata": {},
   "outputs": [],
   "source": [
    "# read table\n",
    "\n",
    "df = pd.read_csv(path, index_col=0)"
   ]
  },
  {
   "cell_type": "markdown",
   "metadata": {},
   "source": [
    "## Data Descriptive Statistics"
   ]
  },
  {
   "cell_type": "code",
   "execution_count": 3,
   "metadata": {},
   "outputs": [
    {
     "data": {
      "text/html": [
       "<div>\n",
       "<style scoped>\n",
       "    .dataframe tbody tr th:only-of-type {\n",
       "        vertical-align: middle;\n",
       "    }\n",
       "\n",
       "    .dataframe tbody tr th {\n",
       "        vertical-align: top;\n",
       "    }\n",
       "\n",
       "    .dataframe thead th {\n",
       "        text-align: right;\n",
       "    }\n",
       "</style>\n",
       "<table border=\"1\" class=\"dataframe\">\n",
       "  <thead>\n",
       "    <tr style=\"text-align: right;\">\n",
       "      <th></th>\n",
       "      <th>Experience</th>\n",
       "      <th>Age</th>\n",
       "      <th>Income</th>\n",
       "    </tr>\n",
       "  </thead>\n",
       "  <tbody>\n",
       "    <tr>\n",
       "      <th>count</th>\n",
       "      <td>1000.000000</td>\n",
       "      <td>1000.000000</td>\n",
       "      <td>1000.000000</td>\n",
       "    </tr>\n",
       "    <tr>\n",
       "      <th>mean</th>\n",
       "      <td>4.508000</td>\n",
       "      <td>25.968000</td>\n",
       "      <td>61545.552000</td>\n",
       "    </tr>\n",
       "    <tr>\n",
       "      <th>std</th>\n",
       "      <td>2.854134</td>\n",
       "      <td>3.111375</td>\n",
       "      <td>37173.633425</td>\n",
       "    </tr>\n",
       "    <tr>\n",
       "      <th>min</th>\n",
       "      <td>0.000000</td>\n",
       "      <td>20.000000</td>\n",
       "      <td>697.000000</td>\n",
       "    </tr>\n",
       "    <tr>\n",
       "      <th>25%</th>\n",
       "      <td>2.000000</td>\n",
       "      <td>23.000000</td>\n",
       "      <td>28590.250000</td>\n",
       "    </tr>\n",
       "    <tr>\n",
       "      <th>50%</th>\n",
       "      <td>5.000000</td>\n",
       "      <td>26.000000</td>\n",
       "      <td>65876.500000</td>\n",
       "    </tr>\n",
       "    <tr>\n",
       "      <th>75%</th>\n",
       "      <td>7.000000</td>\n",
       "      <td>28.000000</td>\n",
       "      <td>93883.250000</td>\n",
       "    </tr>\n",
       "    <tr>\n",
       "      <th>max</th>\n",
       "      <td>9.000000</td>\n",
       "      <td>32.000000</td>\n",
       "      <td>122462.000000</td>\n",
       "    </tr>\n",
       "  </tbody>\n",
       "</table>\n",
       "</div>"
      ],
      "text/plain": [
       "        Experience          Age         Income\n",
       "count  1000.000000  1000.000000    1000.000000\n",
       "mean      4.508000    25.968000   61545.552000\n",
       "std       2.854134     3.111375   37173.633425\n",
       "min       0.000000    20.000000     697.000000\n",
       "25%       2.000000    23.000000   28590.250000\n",
       "50%       5.000000    26.000000   65876.500000\n",
       "75%       7.000000    28.000000   93883.250000\n",
       "max       9.000000    32.000000  122462.000000"
      ]
     },
     "execution_count": 3,
     "metadata": {},
     "output_type": "execute_result"
    }
   ],
   "source": [
    "df.describe()"
   ]
  },
  {
   "cell_type": "code",
   "execution_count": 4,
   "metadata": {},
   "outputs": [
    {
     "name": "stdout",
     "output_type": "stream",
     "text": [
      "<class 'pandas.core.frame.DataFrame'>\n",
      "Int64Index: 1000 entries, 0 to 999\n",
      "Data columns (total 3 columns):\n",
      "Experience    1000 non-null int64\n",
      "Age           1000 non-null int64\n",
      "Income        1000 non-null int64\n",
      "dtypes: int64(3)\n",
      "memory usage: 31.2 KB\n"
     ]
    }
   ],
   "source": [
    "df.info()"
   ]
  },
  {
   "cell_type": "markdown",
   "metadata": {},
   "source": [
    "## Data Visualization"
   ]
  },
  {
   "cell_type": "code",
   "execution_count": 5,
   "metadata": {},
   "outputs": [
    {
     "data": {
      "text/plain": [
       "<matplotlib.axes._subplots.AxesSubplot at 0x2308a212c18>"
      ]
     },
     "execution_count": 5,
     "metadata": {},
     "output_type": "execute_result"
    },
    {
     "data": {
      "image/png": "[encoded data removed]",
      "text/plain": [
       "<Figure size 432x288 with 2 Axes>"
      ]
     },
     "metadata": {},
     "output_type": "display_data"
    }
   ],
   "source": [
    "# correlation\n",
    "\n",
    "sns.heatmap(df.corr(),annot=True)"
   ]
  },
  {
   "cell_type": "code",
   "execution_count": 6,
   "metadata": {},
   "outputs": [
    {
     "data": {
      "text/plain": [
       "<seaborn.axisgrid.JointGrid at 0x2308a3589e8>"
      ]
     },
     "execution_count": 6,
     "metadata": {},
     "output_type": "execute_result"
    },
    {
     "data": {
      "image/png": "[encoded data removed]",
      "text/plain": [
       "<Figure size 504x504 with 3 Axes>"
      ]
     },
     "metadata": {},
     "output_type": "display_data"
    }
   ],
   "source": [
    "# simple linear regression visualized (Age)\n",
    "\n",
    "sns.jointplot(x=\"Age\", y=\"Income\", data=df,kind=\"reg\", truncate=False,color=\"m\", height=7)"
   ]
  },
  {
   "cell_type": "code",
   "execution_count": 7,
   "metadata": {},
   "outputs": [
    {
     "data": {
      "text/plain": [
       "<seaborn.axisgrid.JointGrid at 0x2308a4b2390>"
      ]
     },
     "execution_count": 7,
     "metadata": {},
     "output_type": "execute_result"
    },
    {
     "data": {
      "image/png": "[encoded data removed]",
      "text/plain": [
       "<Figure size 504x504 with 3 Axes>"
      ]
     },
     "metadata": {},
     "output_type": "display_data"
    }
   ],
   "source": [
    "# simple linear regression visualized (Experience)\n",
    "\n",
    "sns.jointplot(x=\"Experience\", y=\"Income\", data=df,kind=\"reg\", truncate=False,color=\"m\", height=7)"
   ]
  },
  {
   "cell_type": "markdown",
   "metadata": {},
   "source": [
    "Based on the data visualization, we expect the ridge regression model to have a positive relationship (coefficent) for Age and Experience with Income.\n",
    "\n",
    "Note that the visualization shows that if you are under the age 20, then the Income would be negative. This interpretation implies that if you under the age 20, you are in debt."
   ]
  },
  {
   "cell_type": "markdown",
   "metadata": {},
   "source": [
    "## Model Tuning"
   ]
  },
  {
   "cell_type": "markdown",
   "metadata": {},
   "source": [
    "### Train / Test Split"
   ]
  },
  {
   "cell_type": "code",
   "execution_count": 8,
   "metadata": {},
   "outputs": [],
   "source": [
    "train = df.iloc[0:500]\n",
    "test = df.iloc[500:]"
   ]
  },
  {
   "cell_type": "markdown",
   "metadata": {},
   "source": [
    "### Cross Validation"
   ]
  },
  {
   "cell_type": "code",
   "execution_count": 9,
   "metadata": {},
   "outputs": [],
   "source": [
    "# initiate cross validation grid\n",
    "\n",
    "ridge_params = np.arange(0, 1, 0.1).tolist()\n",
    "max_iter_params = np.arange(500, 2000, 200).tolist()\n",
    "solver_params = ['auto', 'svd', 'cholesky', 'lsqr', 'sparse_cg', 'sag', 'saga']\n",
    "\n",
    "try_grid = [{'solver':solver_params,\n",
    "             'max_iter': max_iter_params,\n",
    "             'alpha': ridge_params,\n",
    "           }]"
   ]
  },
  {
   "cell_type": "code",
   "execution_count": 10,
   "metadata": {},
   "outputs": [
    {
     "data": {
      "text/plain": [
       "{'alpha': 0.9, 'max_iter': 1700, 'solver': 'saga'}"
      ]
     },
     "execution_count": 10,
     "metadata": {},
     "output_type": "execute_result"
    }
   ],
   "source": [
    "# cross validation (k-fold=10)\n",
    "\n",
    "regr = GridSearchCV(Ridge(), param_grid=try_grid, cv=10)\n",
    "regr.fit(train[['Experience','Age']],train['Income'])\n",
    "regr.best_params_"
   ]
  },
  {
   "cell_type": "markdown",
   "metadata": {},
   "source": [
    "## Preliminary Model"
   ]
  },
  {
   "cell_type": "code",
   "execution_count": 11,
   "metadata": {},
   "outputs": [],
   "source": [
    "def ridge_reg(path):\n",
    "    df = pd.read_csv(path)\n",
    "    train = df.iloc[0:500]\n",
    "    test = df.iloc[500:]\n",
    "    reg = Ridge().fit(train[['Experience','Age']], train['Income'])\n",
    "    return (reg.coef_, reg.intercept_, reg.score(test[['Experience','Age']], test['Income']))"
   ]
  },
  {
   "cell_type": "markdown",
   "metadata": {},
   "source": [
    "## Final Model"
   ]
  },
  {
   "cell_type": "code",
   "execution_count": 15,
   "metadata": {},
   "outputs": [],
   "source": [
    "def ridge_reg_final(path):\n",
    "    df = pd.read_csv(path)\n",
    "    train = df.iloc[0:500]\n",
    "    test = df.iloc[500:]\n",
    "    reg = Ridge(alpha=0.9,max_iter=1700,solver='saga').fit(train[['Experience','Age']], train['Income'])\n",
    "    return (reg.coef_, reg.intercept_, reg.score(test[['Experience','Age']], test['Income']))"
   ]
  },
  {
   "cell_type": "markdown",
   "metadata": {},
   "source": [
    "## Model Comparison"
   ]
  },
  {
   "cell_type": "code",
   "execution_count": 16,
   "metadata": {},
   "outputs": [
    {
     "data": {
      "text/plain": [
       "(array([11998.47581673,   999.25873138]),\n",
       " -18502.44480048775,\n",
       " 0.9997500751304992)"
      ]
     },
     "execution_count": 16,
     "metadata": {},
     "output_type": "execute_result"
    }
   ],
   "source": [
    "# preliminary model performance\n",
    "\n",
    "ridge_reg(path)"
   ]
  },
  {
   "cell_type": "code",
   "execution_count": 17,
   "metadata": {},
   "outputs": [
    {
     "data": {
      "text/plain": [
       "(array([12000.7538428 ,  1001.79700101]),\n",
       " -18578.674008684713,\n",
       " 0.9997500916072706)"
      ]
     },
     "execution_count": 17,
     "metadata": {},
     "output_type": "execute_result"
    }
   ],
   "source": [
    "# final model preformance\n",
    "\n",
    "ridge_reg_final(path)"
   ]
  },
  {
   "cell_type": "markdown",
   "metadata": {},
   "source": [
    "## Interpretation"
   ]
  },
  {
   "cell_type": "markdown",
   "metadata": {},
   "source": [
    "Preliminary Model and Final Model seems to perform more or less the same; however, the final model with the tuned hyperparamters will be selected.\n",
    "\n",
    "The coefficient for Experience is 12,001 and for Age is 1,002. This means that when Experience and Age increases by 1 unit, Income will increase by 12,001 and 1,002, respectively.\n",
    "\n",
    "The intercept is -18,579, which seems misleading; but this is mainly due to having negative Income when Age is less than 20. A polynomial fit would be better than linear in modeling the data.\n",
    "\n",
    "The correlation coefficient is 0.9997, which is almost a perfect positive linear relationship. I believe that this model is overfitted and will have be tuned to account for that. Though this model performed slightly worst than the Linear Regression model, their differences are neglible. Even with the tuned hyperparameters, the performance is the same. A linear fit on the data may not be suitable and other regressions can be considered for this data set."
   ]
  }
 ],
 "metadata": {
  "kernelspec": {
   "display_name": "Python 3",
   "language": "python",
   "name": "python3"
  },
  "language_info": {
   "codemirror_mode": {
    "name": "ipython",
    "version": 3
   },
   "file_extension": ".py",
   "mimetype": "text/x-python",
   "name": "python",
   "nbconvert_exporter": "python",
   "pygments_lexer": "ipython3",
   "version": "3.6.5"
  }
 },
 "nbformat": 4,
 "nbformat_minor": 5
}
