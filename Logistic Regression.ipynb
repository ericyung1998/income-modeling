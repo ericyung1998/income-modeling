{
 "cells": [
  {
   "cell_type": "markdown",
   "metadata": {},
   "source": [
    "### Question 3: Apply Logistic Regression to the Dataset \n",
    "\n",
    "We want to predict the income based on experience and age. \n",
    "\n",
    "Create a logistic regression model that will return the weights for the features to classify the input as High Income (Income >= 70000) and Low Income (Income < 70000). Use the first 500 rows ONLY for training. \n",
    "\n",
    "# Result\n",
    "\n",
    "- Create a function log_reg(path), where path is the location of the csv file\n",
    "- This function should load the file, train the model, and then test the model\n",
    "- The function should return a 3-tuple, (coefficient array, intercept, R^2 of model when run on last 500 rows)\n",
    "- E.g. ([12 ,   98], 10, 0.8)"
   ]
  },
  {
   "cell_type": "code",
   "execution_count": 1,
   "metadata": {},
   "outputs": [],
   "source": [
    "# data management\n",
    "\n",
    "import pandas as pd\n",
    "import numpy as np\n",
    "\n",
    "# ML prediction\n",
    "\n",
    "from sklearn.linear_model import LogisticRegression\n",
    "from sklearn.model_selection import GridSearchCV"
   ]
  },
  {
   "cell_type": "code",
   "execution_count": 2,
   "metadata": {},
   "outputs": [],
   "source": [
    "def log_reg(path):\n",
    "    df = pd.read_csv(path, index_col=0)\n",
    "    # create income categories (1 = High Income / 0 = Low Income)\n",
    "    df['High Income'] = np.where(df['Income']>= 70000, 1, 0)\n",
    "    train = df.iloc[0:500]\n",
    "    test = df.iloc[500:]\n",
    "    # cross valid hyperparameters tuning (due to small dataset liblinear was selected and tested against l1 / l2 penalty)\n",
    "    try_grid = [{'penalty':['l1','l2']}]\n",
    "    reg_init = GridSearchCV(LogisticRegression(solver='liblinear',max_iter=100000), param_grid=try_grid, cv=10).fit(train[['Experience','Age']], train['High Income'])\n",
    "    reg = LogisticRegression(penalty=reg_init.best_params_['penalty'],solver='liblinear',max_iter=100000).fit(train[['Experience','Age']], train['High Income'])\n",
    "    return (reg.coef_, reg.intercept_, reg.score(test[['Experience','Age']], test['High Income']))"
   ]
  },
  {
   "cell_type": "code",
   "execution_count": 3,
   "metadata": {},
   "outputs": [
    {
     "data": {
      "text/plain": [
       "(array([[ 5.05778021, -0.91952619]]), array([-2.70636228]), 0.992)"
      ]
     },
     "execution_count": 3,
     "metadata": {},
     "output_type": "execute_result"
    }
   ],
   "source": [
    "log_reg('HKUST_FinTech_Income_Dataset.csv')"
   ]
  }
 ],
 "metadata": {
  "kernelspec": {
   "display_name": "Python 3",
   "language": "python",
   "name": "python3"
  },
  "language_info": {
   "codemirror_mode": {
    "name": "ipython",
    "version": 3
   },
   "file_extension": ".py",
   "mimetype": "text/x-python",
   "name": "python",
   "nbconvert_exporter": "python",
   "pygments_lexer": "ipython3",
   "version": "3.6.5"
  }
 },
 "nbformat": 4,
 "nbformat_minor": 5
}
