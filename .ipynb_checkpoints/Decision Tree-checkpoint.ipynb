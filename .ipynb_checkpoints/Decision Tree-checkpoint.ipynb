{
 "cells": [
  {
   "cell_type": "markdown",
   "metadata": {},
   "source": [
    "### Question 4: Apply Decision Tree Classifier to the Dataset \n",
    "\n",
    "Let us now try a Decision Tree Classifier to predict High Income vs Low Income. Use only the first 500 rows for training.\n",
    "\n",
    "\n",
    "\n",
    "# Result\n",
    "\n",
    "- Create a function dec_tree(path), where path is the location of the csv file\n",
    "- This function should load the file, train the model, and then test the model\n",
    "- The function should return a 2-tuple, (feature importances array, R^2 of model when run on last 500 rows)\n",
    "- E.g. ([0.5 , 0.5], 0.8)"
   ]
  },
  {
   "cell_type": "code",
   "execution_count": 1,
   "metadata": {},
   "outputs": [],
   "source": [
    "# data management\n",
    "\n",
    "import pandas as pd\n",
    "import numpy as np\n",
    "\n",
    "# ML prediction\n",
    "\n",
    "from sklearn.tree import DecisionTreeClassifier\n",
    "from sklearn.model_selection import GridSearchCV"
   ]
  },
  {
   "cell_type": "code",
   "execution_count": 2,
   "metadata": {},
   "outputs": [],
   "source": [
    "def dec_tree(path):\n",
    "    df = pd.read_csv(path, index_col=0)\n",
    "    # create income categories (1 = High Income / 0 = Low Income)\n",
    "    df['High Income'] = np.where(df['Income']>= 70000, 1, 0)\n",
    "    train = df.iloc[0:500]\n",
    "    test = df.iloc[500:]\n",
    "    # cross valid hyperparameters tuning (max_depth, min_samples_split... are NOT considered because there are only 2 features)\n",
    "    try_grid = [{'criterion':['gini','entropy'],'splitter': ['best','random']}]\n",
    "    dec_init = GridSearchCV(DecisionTreeClassifier(), param_grid=try_grid, cv=10).fit(train[['Experience','Age']],train['High Income'])\n",
    "    dec = DecisionTreeClassifier(criterion=dec_init.best_params_['criterion'],splitter=dec_init.best_params_['splitter']).fit(train[['Experience','Age']], train['High Income'])\n",
    "    return (dec.feature_importances_, dec.score(test[['Experience','Age']], test['High Income']))"
   ]
  },
  {
   "cell_type": "code",
   "execution_count": 3,
   "metadata": {},
   "outputs": [
    {
     "data": {
      "text/plain": [
       "(array([0.99077552, 0.00922448]), 0.992)"
      ]
     },
     "execution_count": 3,
     "metadata": {},
     "output_type": "execute_result"
    }
   ],
   "source": [
    "dec_tree('HKUST_FinTech_Income_Dataset.csv')"
   ]
  }
 ],
 "metadata": {
  "kernelspec": {
   "display_name": "Python 3",
   "language": "python",
   "name": "python3"
  },
  "language_info": {
   "codemirror_mode": {
    "name": "ipython",
    "version": 3
   },
   "file_extension": ".py",
   "mimetype": "text/x-python",
   "name": "python",
   "nbconvert_exporter": "python",
   "pygments_lexer": "ipython3",
   "version": "3.6.5"
  }
 },
 "nbformat": 4,
 "nbformat_minor": 5
}
